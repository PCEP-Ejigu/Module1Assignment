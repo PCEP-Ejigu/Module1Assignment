{
 "cells": [
  {
   "cell_type": "markdown",
   "metadata": {},
   "source": [
    "## Questions"
   ]
  },
  {
   "cell_type": "code",
   "execution_count": null,
   "metadata": {},
   "outputs": [],
   "source": [
    "1. What is a hardware? \n",
    "A hardware is a physical parts of a computer that communicates with the software to perform a task (apply or run instructions of a software)."
   ]
  },
  {
   "cell_type": "markdown",
   "metadata": {},
   "source": []
  },
  {
   "cell_type": "markdown",
   "metadata": {},
   "source": [
    "2. What is a software? A software is a program or a set of instructions that tells what to do to the hardware. It is written in machine readable formats. "
   ]
  },
  {
   "cell_type": "markdown",
   "metadata": {},
   "source": []
  },
  {
   "cell_type": "code",
   "execution_count": null,
   "metadata": {},
   "outputs": [],
   "source": [
    "3. Convert 10011001 to a decimal number\n",
    "\n",
    "1+2x2x2+2x2x2x2+2x2x2x2x2x2x2 = 1+8+16+128=153\n"
   ]
  },
  {
   "cell_type": "markdown",
   "metadata": {},
   "source": []
  },
  {
   "cell_type": "code",
   "execution_count": null,
   "metadata": {},
   "outputs": [],
   "source": [
    "4. Convert 11101100 to a decimal number\n",
    "4+8+32+64+128=236"
   ]
  },
  {
   "cell_type": "markdown",
   "metadata": {},
   "source": []
  },
  {
   "cell_type": "code",
   "execution_count": null,
   "metadata": {},
   "outputs": [],
   "source": [
    "5. Decode this secret message:\n",
    "01001100 01101111 01100111 01101001 01100011\n",
    "76       111       103      105     99         is Logic\n",
    "L         O         G        I       C"
   ]
  },
  {
   "cell_type": "markdown",
   "metadata": {},
   "source": []
  },
  {
   "cell_type": "code",
   "execution_count": null,
   "metadata": {},
   "outputs": [],
   "source": [
    "6. Identify and explain stages of Programming.\n",
    "Stages of programming are\n",
    "1.Analyzing - Is the process of identifing, dividing and regroupig the problems (causes) that are going to be addressed.\n",
    "2.Planning -  How to peform it what tool to be used as an input, how to process it and what is expected (output).\n",
    "3.Coding -   Is using the programming language \n",
    "4.Testing - Is verifing weather the program is capable of performing or meeting the requirements as it was planned. \n",
    "             There are three levels of testing, which are unit test, system test and integration test.\n",
    "5.Maintenance - Is the final stage of programing in which fixing any vulnerablities, improvement and documentation takes place."
   ]
  },
  {
   "cell_type": "markdown",
   "metadata": {},
   "source": []
  },
  {
   "cell_type": "code",
   "execution_count": null,
   "metadata": {},
   "outputs": [],
   "source": [
    "7. You need to write a program to compute total sales amount when sales tax is 5%. Identify IPO (inpt, process, output) for this program.\n",
    "The IPO of this scenario would be that let us say total sale is X, so the output of this program is to display the total amount of sale that 5% if sakes tax is added.\n",
    "Therefore, total sales = X x 5%(X). The input is sales, the process is multiplying the sales by 5%, and the outut is total sales amount."
   ]
  },
  {
   "cell_type": "markdown",
   "metadata": {},
   "source": []
  },
  {
   "cell_type": "code",
   "execution_count": null,
   "metadata": {},
   "outputs": [],
   "source": [
    "8. Identify IPO for converting liters to US gallons.\n",
    "Input is Liters, Process is the conversion of liter into US gallons, 1Liter=0.2642 US gallon. Thus the output will be any liter multiplied by 0.264 gallon."
   ]
  },
  {
   "cell_type": "markdown",
   "metadata": {},
   "source": []
  },
  {
   "cell_type": "markdown",
   "metadata": {},
   "source": [
    "9. Identify IPO for computing a worker's pay. What information/data do you need?\n",
    "The IPO for a workers pay\n",
    "Input = hours they worked in a week, the hourly rate, OT rates, holidays bonuses,  \n",
    "Process = calculating the hourly rate with the number of hours they worked, also caluculate any OT, deduct the necessay taxes using the right formula\n",
    "Output = Total pay check (Net pay)"
   ]
  },
  {
   "cell_type": "markdown",
   "metadata": {},
   "source": []
  }
 ],
 "metadata": {
  "kernelspec": {
   "display_name": "Python 3 (ipykernel)",
   "language": "python",
   "name": "python3"
  },
  "language_info": {
   "codemirror_mode": {
    "name": "ipython",
    "version": 3
   },
   "file_extension": ".py",
   "mimetype": "text/x-python",
   "name": "python",
   "nbconvert_exporter": "python",
   "pygments_lexer": "ipython3",
   "version": "3.9.7"
  }
 },
 "nbformat": 4,
 "nbformat_minor": 4
}
